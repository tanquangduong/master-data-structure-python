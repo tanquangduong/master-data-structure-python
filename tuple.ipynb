{
 "cells": [
  {
   "cell_type": "markdown",
   "id": "e235f52a",
   "metadata": {},
   "source": [
    "# Create tuple"
   ]
  },
  {
   "cell_type": "code",
   "execution_count": 1,
   "id": "f3eb6d1a",
   "metadata": {},
   "outputs": [],
   "source": [
    "cities = (\"Paris\", \"Hanoi\", \"London\", \"Newyork\")"
   ]
  },
  {
   "cell_type": "code",
   "execution_count": 2,
   "id": "6c7016c7",
   "metadata": {},
   "outputs": [
    {
     "data": {
      "text/plain": [
       "('Paris', 'Hanoi', 'London', 'Newyork')"
      ]
     },
     "execution_count": 2,
     "metadata": {},
     "output_type": "execute_result"
    }
   ],
   "source": [
    "cities"
   ]
  },
  {
   "cell_type": "code",
   "execution_count": 3,
   "id": "30b8be41",
   "metadata": {},
   "outputs": [
    {
     "data": {
      "text/plain": [
       "'Hanoi'"
      ]
     },
     "execution_count": 3,
     "metadata": {},
     "output_type": "execute_result"
    }
   ],
   "source": [
    "cities[1]"
   ]
  },
  {
   "cell_type": "code",
   "execution_count": 4,
   "id": "4068009e",
   "metadata": {},
   "outputs": [
    {
     "data": {
      "text/plain": [
       "('Hanoi', 'London', 'Newyork')"
      ]
     },
     "execution_count": 4,
     "metadata": {},
     "output_type": "execute_result"
    }
   ],
   "source": [
    "cities[1:]"
   ]
  },
  {
   "cell_type": "markdown",
   "id": "710d0786",
   "metadata": {},
   "source": [
    "# Nested tuple"
   ]
  },
  {
   "cell_type": "code",
   "execution_count": 7,
   "id": "0a1169f6",
   "metadata": {},
   "outputs": [
    {
     "data": {
      "text/plain": [
       "100"
      ]
     },
     "execution_count": 7,
     "metadata": {},
     "output_type": "execute_result"
    }
   ],
   "source": [
    "nested_tuple = (2, 3, (20, 10, 100), 4, 1)\n",
    "# get max valu of third element of nested_tuple\n",
    "max(nested_tuple[2])"
   ]
  },
  {
   "cell_type": "code",
   "execution_count": null,
   "id": "ead1d996",
   "metadata": {},
   "outputs": [],
   "source": []
  }
 ],
 "metadata": {
  "kernelspec": {
   "display_name": "Python 3 (ipykernel)",
   "language": "python",
   "name": "python3"
  },
  "language_info": {
   "codemirror_mode": {
    "name": "ipython",
    "version": 3
   },
   "file_extension": ".py",
   "mimetype": "text/x-python",
   "name": "python",
   "nbconvert_exporter": "python",
   "pygments_lexer": "ipython3",
   "version": "3.9.13"
  }
 },
 "nbformat": 4,
 "nbformat_minor": 5
}
