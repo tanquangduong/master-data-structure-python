{
 "cells": [
  {
   "cell_type": "markdown",
   "id": "06b968e3",
   "metadata": {},
   "source": [
    "# reduce"
   ]
  },
  {
   "cell_type": "code",
   "execution_count": 13,
   "id": "494e9014",
   "metadata": {},
   "outputs": [],
   "source": [
    "import functools"
   ]
  },
  {
   "cell_type": "code",
   "execution_count": 14,
   "id": "2cf09afc",
   "metadata": {},
   "outputs": [
    {
     "data": {
      "text/plain": [
       "15"
      ]
     },
     "execution_count": 14,
     "metadata": {},
     "output_type": "execute_result"
    }
   ],
   "source": [
    "# Find sum with 'reduce'\n",
    "lis = [1, 2, 3, 4, 5]\n",
    "functools.reduce(lambda a, b: a+b, lis)"
   ]
  },
  {
   "cell_type": "code",
   "execution_count": 15,
   "id": "fa5c64a2",
   "metadata": {},
   "outputs": [
    {
     "data": {
      "text/plain": [
       "5"
      ]
     },
     "execution_count": 15,
     "metadata": {},
     "output_type": "execute_result"
    }
   ],
   "source": [
    "# find max with 'reduce'\n",
    "lis = [1, 5, 3, 2, 4]\n",
    "functools.reduce(lambda a, b: a if a > b else b, lis)"
   ]
  },
  {
   "cell_type": "markdown",
   "id": "78e25053",
   "metadata": {},
   "source": [
    "# map"
   ]
  },
  {
   "cell_type": "code",
   "execution_count": 9,
   "id": "16b8ba39",
   "metadata": {
    "scrolled": true
   },
   "outputs": [
    {
     "data": {
      "text/plain": [
       "[4, 16, 36, 64]"
      ]
     },
     "execution_count": 9,
     "metadata": {},
     "output_type": "execute_result"
    }
   ],
   "source": [
    "lis = [2, 4, 6, 8]\n",
    "list(map(lambda x: x ** 2, lis))"
   ]
  },
  {
   "cell_type": "markdown",
   "id": "82132ff6",
   "metadata": {},
   "source": [
    "# filter"
   ]
  },
  {
   "cell_type": "code",
   "execution_count": 10,
   "id": "7f48821c",
   "metadata": {},
   "outputs": [
    {
     "data": {
      "text/plain": [
       "[15, 20, 25]"
      ]
     },
     "execution_count": 10,
     "metadata": {},
     "output_type": "execute_result"
    }
   ],
   "source": [
    "lis = [5, 10, 15, 20, 25]\n",
    "list(filter(lambda x: x > 10, lis))"
   ]
  },
  {
   "cell_type": "code",
   "execution_count": null,
   "id": "bb1ddaa0",
   "metadata": {},
   "outputs": [],
   "source": []
  }
 ],
 "metadata": {
  "kernelspec": {
   "display_name": "Python 3 (ipykernel)",
   "language": "python",
   "name": "python3"
  },
  "language_info": {
   "codemirror_mode": {
    "name": "ipython",
    "version": 3
   },
   "file_extension": ".py",
   "mimetype": "text/x-python",
   "name": "python",
   "nbconvert_exporter": "python",
   "pygments_lexer": "ipython3",
   "version": "3.9.13"
  }
 },
 "nbformat": 4,
 "nbformat_minor": 5
}
