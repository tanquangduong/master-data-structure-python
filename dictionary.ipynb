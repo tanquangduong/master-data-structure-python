{
 "cells": [
  {
   "cell_type": "markdown",
   "id": "a3df734f",
   "metadata": {},
   "source": [
    "# Create a 'profile' dictionary"
   ]
  },
  {
   "cell_type": "code",
   "execution_count": 6,
   "id": "ad734aa2",
   "metadata": {},
   "outputs": [],
   "source": [
    "profile = {\n",
    "    \"name\": \"Jack\",\n",
    "    \"height\": 1.87,\n",
    "    \"weight\": 70,\n",
    "    \"address\": \"London\"\n",
    "}"
   ]
  },
  {
   "cell_type": "code",
   "execution_count": 7,
   "id": "ce236ee4",
   "metadata": {},
   "outputs": [
    {
     "data": {
      "text/plain": [
       "{'name': 'Jack', 'height': 1.87, 'weight': 70, 'address': 'London'}"
      ]
     },
     "execution_count": 7,
     "metadata": {},
     "output_type": "execute_result"
    }
   ],
   "source": [
    "profile"
   ]
  },
  {
   "cell_type": "markdown",
   "id": "e5dcbef0",
   "metadata": {},
   "source": [
    "# Get value from key"
   ]
  },
  {
   "cell_type": "code",
   "execution_count": 8,
   "id": "ddaef899",
   "metadata": {},
   "outputs": [
    {
     "data": {
      "text/plain": [
       "'Jack'"
      ]
     },
     "execution_count": 8,
     "metadata": {},
     "output_type": "execute_result"
    }
   ],
   "source": [
    "profile['name']"
   ]
  },
  {
   "cell_type": "code",
   "execution_count": 9,
   "id": "f31d5b09",
   "metadata": {},
   "outputs": [
    {
     "data": {
      "text/plain": [
       "'Jack'"
      ]
     },
     "execution_count": 9,
     "metadata": {},
     "output_type": "execute_result"
    }
   ],
   "source": [
    "profile.get(\"name\")"
   ]
  },
  {
   "cell_type": "markdown",
   "id": "92efbf54",
   "metadata": {},
   "source": [
    "# Add element to dictionary"
   ]
  },
  {
   "cell_type": "code",
   "execution_count": 10,
   "id": "7d27e47b",
   "metadata": {},
   "outputs": [
    {
     "data": {
      "text/plain": [
       "{'name': 'Jack',\n",
       " 'height': 1.87,\n",
       " 'weight': 70,\n",
       " 'address': 'London',\n",
       " 'club': 'Manchester United'}"
      ]
     },
     "execution_count": 10,
     "metadata": {},
     "output_type": "execute_result"
    }
   ],
   "source": [
    "profile[\"club\"] = \"Manchester United\"\n",
    "profile"
   ]
  },
  {
   "cell_type": "code",
   "execution_count": null,
   "id": "4ee53a23",
   "metadata": {},
   "outputs": [],
   "source": []
  }
 ],
 "metadata": {
  "kernelspec": {
   "display_name": "Python 3 (ipykernel)",
   "language": "python",
   "name": "python3"
  },
  "language_info": {
   "codemirror_mode": {
    "name": "ipython",
    "version": 3
   },
   "file_extension": ".py",
   "mimetype": "text/x-python",
   "name": "python",
   "nbconvert_exporter": "python",
   "pygments_lexer": "ipython3",
   "version": "3.9.13"
  }
 },
 "nbformat": 4,
 "nbformat_minor": 5
}
