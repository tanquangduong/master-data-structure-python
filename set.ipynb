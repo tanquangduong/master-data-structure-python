{
 "cells": [
  {
   "cell_type": "markdown",
   "id": "c169586c",
   "metadata": {},
   "source": [
    "# Create set"
   ]
  },
  {
   "cell_type": "code",
   "execution_count": 9,
   "id": "5f31402b",
   "metadata": {},
   "outputs": [
    {
     "name": "stdout",
     "output_type": "stream",
     "text": [
      "{'orange', 'banana'}\n"
     ]
    }
   ],
   "source": [
    "fruits = {'orange', 'banana'}\n",
    "print(fruits)"
   ]
  },
  {
   "cell_type": "code",
   "execution_count": 10,
   "id": "77df3d87",
   "metadata": {},
   "outputs": [],
   "source": [
    "bracket_A = {'orange', 'banana', 'kiwi'}\n",
    "bracket_B = {'melon', 'strawberry', 'kiwi', 'tomato'}"
   ]
  },
  {
   "cell_type": "markdown",
   "id": "f82a2f5f",
   "metadata": {},
   "source": [
    "# Union"
   ]
  },
  {
   "cell_type": "code",
   "execution_count": 11,
   "id": "e514073a",
   "metadata": {},
   "outputs": [
    {
     "data": {
      "text/plain": [
       "{'banana', 'kiwi', 'melon', 'orange', 'strawberry', 'tomato'}"
      ]
     },
     "execution_count": 11,
     "metadata": {},
     "output_type": "execute_result"
    }
   ],
   "source": [
    "bracket_A | bracket_B"
   ]
  },
  {
   "cell_type": "markdown",
   "id": "76a7c3c7",
   "metadata": {},
   "source": [
    "# Intersection"
   ]
  },
  {
   "cell_type": "code",
   "execution_count": 12,
   "id": "639aeb9e",
   "metadata": {},
   "outputs": [
    {
     "data": {
      "text/plain": [
       "{'kiwi'}"
      ]
     },
     "execution_count": 12,
     "metadata": {},
     "output_type": "execute_result"
    }
   ],
   "source": [
    "bracket_A & bracket_B"
   ]
  },
  {
   "cell_type": "code",
   "execution_count": null,
   "id": "03d5a077",
   "metadata": {},
   "outputs": [],
   "source": []
  }
 ],
 "metadata": {
  "kernelspec": {
   "display_name": "Python 3 (ipykernel)",
   "language": "python",
   "name": "python3"
  },
  "language_info": {
   "codemirror_mode": {
    "name": "ipython",
    "version": 3
   },
   "file_extension": ".py",
   "mimetype": "text/x-python",
   "name": "python",
   "nbconvert_exporter": "python",
   "pygments_lexer": "ipython3",
   "version": "3.9.13"
  }
 },
 "nbformat": 4,
 "nbformat_minor": 5
}
